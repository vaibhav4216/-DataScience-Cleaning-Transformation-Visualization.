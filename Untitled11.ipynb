{
 "cells": [
  {
   "cell_type": "code",
   "execution_count": null,
   "id": "8c165fa0-1f46-43c2-829f-23b7a29830d5",
   "metadata": {},
   "outputs": [],
   "source": [
    "import pandas as pd\n",
    "from sklearn.preprocessing import StandardScaler\n",
    "\n",
    "data = pd.read_csv('your_dataset.csv')\n",
    "print(\"Initial data shape:\", data.shape)\n",
    "print(data.head())\n",
    "\n",
    "print(\"\\nMissing values before handling:\\n\", data.isnull().sum())\n",
    "data.fillna(data.mean(), inplace=True)\n",
    "print(\"\\nMissing values after handling:\\n\", data.isnull().sum())\n",
    "\n",
    "duplicates = data.duplicated().sum()\n",
    "print(\"\\nNumber of duplicates before removal:\", duplicates)\n",
    "data.drop_duplicates(inplace=True)\n",
    "print(\"Number of duplicates after removal:\", data.duplicated().sum())\n",
    "\n",
    "Q1 = data['numeric_column'].quantile(0.25)\n",
    "Q3 = data['numeric_column'].quantile(0.75)\n",
    "IQR = Q3 - Q1\n",
    "lower_bound = Q1 - 1.5 * IQR\n",
    "upper_bound = Q3 + 1.5 * IQR\n",
    "data = data[(data['numeric_column'] >= lower_bound) & (data['numeric_column'] <= upper_bound)]\n",
    "\n",
    "scaler = StandardScaler()\n",
    "data[['numeric_column1', 'numeric_column2']] = scaler.fit_transform(data[['numeric_column1', 'numeric_column2']])\n",
    "print(\"\\nCleaned data shape:\", data.shape)\n",
    "print(data.head())\n",
    "data.to_csv('cleaned_dataset.csv', index=False)\n"
   ]
  }
 ],
 "metadata": {
  "kernelspec": {
   "display_name": "Python 3 (ipykernel)",
   "language": "python",
   "name": "python3"
  },
  "language_info": {
   "codemirror_mode": {
    "name": "ipython",
    "version": 3
   },
   "file_extension": ".py",
   "mimetype": "text/x-python",
   "name": "python",
   "nbconvert_exporter": "python",
   "pygments_lexer": "ipython3",
   "version": "3.12.6"
  }
 },
 "nbformat": 4,
 "nbformat_minor": 5
}
